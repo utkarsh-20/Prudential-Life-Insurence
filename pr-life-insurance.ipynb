{
 "cells": [
  {
   "cell_type": "code",
   "execution_count": 1,
   "metadata": {},
   "outputs": [],
   "source": [
    "import numpy as np\n",
    "import pandas as pd\n",
    "\n",
    "import seaborn as sns\n",
    "\n",
    "import matplotlib.pyplot as plt\n",
    "%matplotlib inline\n",
    "from importlib import reload\n",
    "reload(plt)\n",
    "\n",
    "from scipy.stats import norm\n",
    "\n",
    "import warnings\n",
    "warnings.filterwarnings('ignore')"
   ]
  },
  {
   "cell_type": "code",
   "execution_count": 2,
   "metadata": {},
   "outputs": [
    {
     "data": {
      "text/html": [
       "<div>\n",
       "<style scoped>\n",
       "    .dataframe tbody tr th:only-of-type {\n",
       "        vertical-align: middle;\n",
       "    }\n",
       "\n",
       "    .dataframe tbody tr th {\n",
       "        vertical-align: top;\n",
       "    }\n",
       "\n",
       "    .dataframe thead th {\n",
       "        text-align: right;\n",
       "    }\n",
       "</style>\n",
       "<table border=\"1\" class=\"dataframe\">\n",
       "  <thead>\n",
       "    <tr style=\"text-align: right;\">\n",
       "      <th></th>\n",
       "      <th>Id</th>\n",
       "      <th>Product_Info_1</th>\n",
       "      <th>Product_Info_2</th>\n",
       "      <th>Product_Info_3</th>\n",
       "      <th>Product_Info_4</th>\n",
       "      <th>Product_Info_5</th>\n",
       "      <th>Product_Info_6</th>\n",
       "      <th>Product_Info_7</th>\n",
       "      <th>Ins_Age</th>\n",
       "      <th>Ht</th>\n",
       "      <th>...</th>\n",
       "      <th>Medical_Keyword_40</th>\n",
       "      <th>Medical_Keyword_41</th>\n",
       "      <th>Medical_Keyword_42</th>\n",
       "      <th>Medical_Keyword_43</th>\n",
       "      <th>Medical_Keyword_44</th>\n",
       "      <th>Medical_Keyword_45</th>\n",
       "      <th>Medical_Keyword_46</th>\n",
       "      <th>Medical_Keyword_47</th>\n",
       "      <th>Medical_Keyword_48</th>\n",
       "      <th>Response</th>\n",
       "    </tr>\n",
       "  </thead>\n",
       "  <tbody>\n",
       "    <tr>\n",
       "      <th>0</th>\n",
       "      <td>2</td>\n",
       "      <td>1</td>\n",
       "      <td>D3</td>\n",
       "      <td>10</td>\n",
       "      <td>0.076923</td>\n",
       "      <td>2</td>\n",
       "      <td>1</td>\n",
       "      <td>1</td>\n",
       "      <td>0.641791</td>\n",
       "      <td>0.581818</td>\n",
       "      <td>...</td>\n",
       "      <td>0</td>\n",
       "      <td>0</td>\n",
       "      <td>0</td>\n",
       "      <td>0</td>\n",
       "      <td>0</td>\n",
       "      <td>0</td>\n",
       "      <td>0</td>\n",
       "      <td>0</td>\n",
       "      <td>0</td>\n",
       "      <td>8</td>\n",
       "    </tr>\n",
       "    <tr>\n",
       "      <th>1</th>\n",
       "      <td>5</td>\n",
       "      <td>1</td>\n",
       "      <td>A1</td>\n",
       "      <td>26</td>\n",
       "      <td>0.076923</td>\n",
       "      <td>2</td>\n",
       "      <td>3</td>\n",
       "      <td>1</td>\n",
       "      <td>0.059701</td>\n",
       "      <td>0.600000</td>\n",
       "      <td>...</td>\n",
       "      <td>0</td>\n",
       "      <td>0</td>\n",
       "      <td>0</td>\n",
       "      <td>0</td>\n",
       "      <td>0</td>\n",
       "      <td>0</td>\n",
       "      <td>0</td>\n",
       "      <td>0</td>\n",
       "      <td>0</td>\n",
       "      <td>4</td>\n",
       "    </tr>\n",
       "    <tr>\n",
       "      <th>2</th>\n",
       "      <td>6</td>\n",
       "      <td>1</td>\n",
       "      <td>E1</td>\n",
       "      <td>26</td>\n",
       "      <td>0.076923</td>\n",
       "      <td>2</td>\n",
       "      <td>3</td>\n",
       "      <td>1</td>\n",
       "      <td>0.029851</td>\n",
       "      <td>0.745455</td>\n",
       "      <td>...</td>\n",
       "      <td>0</td>\n",
       "      <td>0</td>\n",
       "      <td>0</td>\n",
       "      <td>0</td>\n",
       "      <td>0</td>\n",
       "      <td>0</td>\n",
       "      <td>0</td>\n",
       "      <td>0</td>\n",
       "      <td>0</td>\n",
       "      <td>8</td>\n",
       "    </tr>\n",
       "    <tr>\n",
       "      <th>3</th>\n",
       "      <td>7</td>\n",
       "      <td>1</td>\n",
       "      <td>D4</td>\n",
       "      <td>10</td>\n",
       "      <td>0.487179</td>\n",
       "      <td>2</td>\n",
       "      <td>3</td>\n",
       "      <td>1</td>\n",
       "      <td>0.164179</td>\n",
       "      <td>0.672727</td>\n",
       "      <td>...</td>\n",
       "      <td>0</td>\n",
       "      <td>0</td>\n",
       "      <td>0</td>\n",
       "      <td>0</td>\n",
       "      <td>0</td>\n",
       "      <td>0</td>\n",
       "      <td>0</td>\n",
       "      <td>0</td>\n",
       "      <td>0</td>\n",
       "      <td>8</td>\n",
       "    </tr>\n",
       "    <tr>\n",
       "      <th>4</th>\n",
       "      <td>8</td>\n",
       "      <td>1</td>\n",
       "      <td>D2</td>\n",
       "      <td>26</td>\n",
       "      <td>0.230769</td>\n",
       "      <td>2</td>\n",
       "      <td>3</td>\n",
       "      <td>1</td>\n",
       "      <td>0.417910</td>\n",
       "      <td>0.654545</td>\n",
       "      <td>...</td>\n",
       "      <td>0</td>\n",
       "      <td>0</td>\n",
       "      <td>0</td>\n",
       "      <td>0</td>\n",
       "      <td>0</td>\n",
       "      <td>0</td>\n",
       "      <td>0</td>\n",
       "      <td>0</td>\n",
       "      <td>0</td>\n",
       "      <td>8</td>\n",
       "    </tr>\n",
       "  </tbody>\n",
       "</table>\n",
       "<p>5 rows × 128 columns</p>\n",
       "</div>"
      ],
      "text/plain": [
       "   Id  Product_Info_1 Product_Info_2  Product_Info_3  Product_Info_4  \\\n",
       "0   2               1             D3              10        0.076923   \n",
       "1   5               1             A1              26        0.076923   \n",
       "2   6               1             E1              26        0.076923   \n",
       "3   7               1             D4              10        0.487179   \n",
       "4   8               1             D2              26        0.230769   \n",
       "\n",
       "   Product_Info_5  Product_Info_6  Product_Info_7   Ins_Age        Ht  \\\n",
       "0               2               1               1  0.641791  0.581818   \n",
       "1               2               3               1  0.059701  0.600000   \n",
       "2               2               3               1  0.029851  0.745455   \n",
       "3               2               3               1  0.164179  0.672727   \n",
       "4               2               3               1  0.417910  0.654545   \n",
       "\n",
       "     ...     Medical_Keyword_40  Medical_Keyword_41  Medical_Keyword_42  \\\n",
       "0    ...                      0                   0                   0   \n",
       "1    ...                      0                   0                   0   \n",
       "2    ...                      0                   0                   0   \n",
       "3    ...                      0                   0                   0   \n",
       "4    ...                      0                   0                   0   \n",
       "\n",
       "   Medical_Keyword_43  Medical_Keyword_44  Medical_Keyword_45  \\\n",
       "0                   0                   0                   0   \n",
       "1                   0                   0                   0   \n",
       "2                   0                   0                   0   \n",
       "3                   0                   0                   0   \n",
       "4                   0                   0                   0   \n",
       "\n",
       "   Medical_Keyword_46  Medical_Keyword_47  Medical_Keyword_48  Response  \n",
       "0                   0                   0                   0         8  \n",
       "1                   0                   0                   0         4  \n",
       "2                   0                   0                   0         8  \n",
       "3                   0                   0                   0         8  \n",
       "4                   0                   0                   0         8  \n",
       "\n",
       "[5 rows x 128 columns]"
      ]
     },
     "execution_count": 2,
     "metadata": {},
     "output_type": "execute_result"
    }
   ],
   "source": [
    "train = pd.read_csv('./input/train.csv')\n",
    "test = pd.read_csv('./input/test.csv')\n",
    "train.head()"
   ]
  },
  {
   "cell_type": "code",
   "execution_count": 3,
   "metadata": {},
   "outputs": [
    {
     "data": {
      "text/plain": [
       "((59381, 128), (19765, 127))"
      ]
     },
     "execution_count": 3,
     "metadata": {},
     "output_type": "execute_result"
    }
   ],
   "source": [
    "train.shape, test.shape"
   ]
  },
  {
   "cell_type": "code",
   "execution_count": 4,
   "metadata": {},
   "outputs": [
    {
     "data": {
      "text/plain": [
       "Index(['Id', 'Product_Info_1', 'Product_Info_2', 'Product_Info_3',\n",
       "       'Product_Info_4', 'Product_Info_5', 'Product_Info_6', 'Product_Info_7',\n",
       "       'Ins_Age', 'Ht',\n",
       "       ...\n",
       "       'Medical_Keyword_40', 'Medical_Keyword_41', 'Medical_Keyword_42',\n",
       "       'Medical_Keyword_43', 'Medical_Keyword_44', 'Medical_Keyword_45',\n",
       "       'Medical_Keyword_46', 'Medical_Keyword_47', 'Medical_Keyword_48',\n",
       "       'Response'],\n",
       "      dtype='object', length=128)"
      ]
     },
     "execution_count": 4,
     "metadata": {},
     "output_type": "execute_result"
    }
   ],
   "source": [
    "train.columns"
   ]
  },
  {
   "cell_type": "code",
   "execution_count": 5,
   "metadata": {},
   "outputs": [
    {
     "data": {
      "text/html": [
       "<div>\n",
       "<style scoped>\n",
       "    .dataframe tbody tr th:only-of-type {\n",
       "        vertical-align: middle;\n",
       "    }\n",
       "\n",
       "    .dataframe tbody tr th {\n",
       "        vertical-align: top;\n",
       "    }\n",
       "\n",
       "    .dataframe thead th {\n",
       "        text-align: right;\n",
       "    }\n",
       "</style>\n",
       "<table border=\"1\" class=\"dataframe\">\n",
       "  <thead>\n",
       "    <tr style=\"text-align: right;\">\n",
       "      <th></th>\n",
       "      <th>Total</th>\n",
       "      <th>Percent</th>\n",
       "    </tr>\n",
       "  </thead>\n",
       "  <tbody>\n",
       "    <tr>\n",
       "      <th>Medical_History_10</th>\n",
       "      <td>58824</td>\n",
       "      <td>0.990620</td>\n",
       "    </tr>\n",
       "    <tr>\n",
       "      <th>Medical_History_32</th>\n",
       "      <td>58274</td>\n",
       "      <td>0.981358</td>\n",
       "    </tr>\n",
       "    <tr>\n",
       "      <th>Medical_History_24</th>\n",
       "      <td>55580</td>\n",
       "      <td>0.935990</td>\n",
       "    </tr>\n",
       "    <tr>\n",
       "      <th>Medical_History_15</th>\n",
       "      <td>44596</td>\n",
       "      <td>0.751015</td>\n",
       "    </tr>\n",
       "    <tr>\n",
       "      <th>Family_Hist_5</th>\n",
       "      <td>41811</td>\n",
       "      <td>0.704114</td>\n",
       "    </tr>\n",
       "    <tr>\n",
       "      <th>Family_Hist_3</th>\n",
       "      <td>34241</td>\n",
       "      <td>0.576632</td>\n",
       "    </tr>\n",
       "    <tr>\n",
       "      <th>Family_Hist_2</th>\n",
       "      <td>28656</td>\n",
       "      <td>0.482579</td>\n",
       "    </tr>\n",
       "    <tr>\n",
       "      <th>Insurance_History_5</th>\n",
       "      <td>25396</td>\n",
       "      <td>0.427679</td>\n",
       "    </tr>\n",
       "    <tr>\n",
       "      <th>Family_Hist_4</th>\n",
       "      <td>19184</td>\n",
       "      <td>0.323066</td>\n",
       "    </tr>\n",
       "    <tr>\n",
       "      <th>Employment_Info_6</th>\n",
       "      <td>10854</td>\n",
       "      <td>0.182786</td>\n",
       "    </tr>\n",
       "    <tr>\n",
       "      <th>Medical_History_1</th>\n",
       "      <td>8889</td>\n",
       "      <td>0.149694</td>\n",
       "    </tr>\n",
       "    <tr>\n",
       "      <th>Employment_Info_4</th>\n",
       "      <td>6779</td>\n",
       "      <td>0.114161</td>\n",
       "    </tr>\n",
       "    <tr>\n",
       "      <th>Employment_Info_1</th>\n",
       "      <td>19</td>\n",
       "      <td>0.000320</td>\n",
       "    </tr>\n",
       "    <tr>\n",
       "      <th>Medical_History_19</th>\n",
       "      <td>0</td>\n",
       "      <td>0.000000</td>\n",
       "    </tr>\n",
       "    <tr>\n",
       "      <th>Medical_History_7</th>\n",
       "      <td>0</td>\n",
       "      <td>0.000000</td>\n",
       "    </tr>\n",
       "    <tr>\n",
       "      <th>Medical_History_23</th>\n",
       "      <td>0</td>\n",
       "      <td>0.000000</td>\n",
       "    </tr>\n",
       "    <tr>\n",
       "      <th>Medical_History_22</th>\n",
       "      <td>0</td>\n",
       "      <td>0.000000</td>\n",
       "    </tr>\n",
       "    <tr>\n",
       "      <th>Medical_History_2</th>\n",
       "      <td>0</td>\n",
       "      <td>0.000000</td>\n",
       "    </tr>\n",
       "    <tr>\n",
       "      <th>Medical_History_3</th>\n",
       "      <td>0</td>\n",
       "      <td>0.000000</td>\n",
       "    </tr>\n",
       "    <tr>\n",
       "      <th>Medical_History_4</th>\n",
       "      <td>0</td>\n",
       "      <td>0.000000</td>\n",
       "    </tr>\n",
       "    <tr>\n",
       "      <th>Medical_History_5</th>\n",
       "      <td>0</td>\n",
       "      <td>0.000000</td>\n",
       "    </tr>\n",
       "    <tr>\n",
       "      <th>Medical_History_6</th>\n",
       "      <td>0</td>\n",
       "      <td>0.000000</td>\n",
       "    </tr>\n",
       "    <tr>\n",
       "      <th>Medical_History_9</th>\n",
       "      <td>0</td>\n",
       "      <td>0.000000</td>\n",
       "    </tr>\n",
       "    <tr>\n",
       "      <th>Medical_History_8</th>\n",
       "      <td>0</td>\n",
       "      <td>0.000000</td>\n",
       "    </tr>\n",
       "    <tr>\n",
       "      <th>Medical_History_18</th>\n",
       "      <td>0</td>\n",
       "      <td>0.000000</td>\n",
       "    </tr>\n",
       "    <tr>\n",
       "      <th>Medical_History_21</th>\n",
       "      <td>0</td>\n",
       "      <td>0.000000</td>\n",
       "    </tr>\n",
       "    <tr>\n",
       "      <th>Family_Hist_1</th>\n",
       "      <td>0</td>\n",
       "      <td>0.000000</td>\n",
       "    </tr>\n",
       "    <tr>\n",
       "      <th>Medical_History_12</th>\n",
       "      <td>0</td>\n",
       "      <td>0.000000</td>\n",
       "    </tr>\n",
       "    <tr>\n",
       "      <th>Medical_History_13</th>\n",
       "      <td>0</td>\n",
       "      <td>0.000000</td>\n",
       "    </tr>\n",
       "    <tr>\n",
       "      <th>Medical_History_14</th>\n",
       "      <td>0</td>\n",
       "      <td>0.000000</td>\n",
       "    </tr>\n",
       "    <tr>\n",
       "      <th>...</th>\n",
       "      <td>...</td>\n",
       "      <td>...</td>\n",
       "    </tr>\n",
       "    <tr>\n",
       "      <th>Medical_Keyword_1</th>\n",
       "      <td>0</td>\n",
       "      <td>0.000000</td>\n",
       "    </tr>\n",
       "    <tr>\n",
       "      <th>Medical_History_28</th>\n",
       "      <td>0</td>\n",
       "      <td>0.000000</td>\n",
       "    </tr>\n",
       "    <tr>\n",
       "      <th>Medical_History_29</th>\n",
       "      <td>0</td>\n",
       "      <td>0.000000</td>\n",
       "    </tr>\n",
       "    <tr>\n",
       "      <th>Medical_History_30</th>\n",
       "      <td>0</td>\n",
       "      <td>0.000000</td>\n",
       "    </tr>\n",
       "    <tr>\n",
       "      <th>Medical_History_31</th>\n",
       "      <td>0</td>\n",
       "      <td>0.000000</td>\n",
       "    </tr>\n",
       "    <tr>\n",
       "      <th>Medical_History_33</th>\n",
       "      <td>0</td>\n",
       "      <td>0.000000</td>\n",
       "    </tr>\n",
       "    <tr>\n",
       "      <th>Medical_History_34</th>\n",
       "      <td>0</td>\n",
       "      <td>0.000000</td>\n",
       "    </tr>\n",
       "    <tr>\n",
       "      <th>Medical_History_35</th>\n",
       "      <td>0</td>\n",
       "      <td>0.000000</td>\n",
       "    </tr>\n",
       "    <tr>\n",
       "      <th>Medical_History_36</th>\n",
       "      <td>0</td>\n",
       "      <td>0.000000</td>\n",
       "    </tr>\n",
       "    <tr>\n",
       "      <th>Medical_History_37</th>\n",
       "      <td>0</td>\n",
       "      <td>0.000000</td>\n",
       "    </tr>\n",
       "    <tr>\n",
       "      <th>Medical_History_38</th>\n",
       "      <td>0</td>\n",
       "      <td>0.000000</td>\n",
       "    </tr>\n",
       "    <tr>\n",
       "      <th>Medical_History_39</th>\n",
       "      <td>0</td>\n",
       "      <td>0.000000</td>\n",
       "    </tr>\n",
       "    <tr>\n",
       "      <th>Medical_History_40</th>\n",
       "      <td>0</td>\n",
       "      <td>0.000000</td>\n",
       "    </tr>\n",
       "    <tr>\n",
       "      <th>Medical_History_41</th>\n",
       "      <td>0</td>\n",
       "      <td>0.000000</td>\n",
       "    </tr>\n",
       "    <tr>\n",
       "      <th>Medical_Keyword_2</th>\n",
       "      <td>0</td>\n",
       "      <td>0.000000</td>\n",
       "    </tr>\n",
       "    <tr>\n",
       "      <th>Medical_Keyword_16</th>\n",
       "      <td>0</td>\n",
       "      <td>0.000000</td>\n",
       "    </tr>\n",
       "    <tr>\n",
       "      <th>Medical_Keyword_3</th>\n",
       "      <td>0</td>\n",
       "      <td>0.000000</td>\n",
       "    </tr>\n",
       "    <tr>\n",
       "      <th>Medical_Keyword_4</th>\n",
       "      <td>0</td>\n",
       "      <td>0.000000</td>\n",
       "    </tr>\n",
       "    <tr>\n",
       "      <th>Medical_Keyword_5</th>\n",
       "      <td>0</td>\n",
       "      <td>0.000000</td>\n",
       "    </tr>\n",
       "    <tr>\n",
       "      <th>Medical_Keyword_6</th>\n",
       "      <td>0</td>\n",
       "      <td>0.000000</td>\n",
       "    </tr>\n",
       "    <tr>\n",
       "      <th>Medical_Keyword_7</th>\n",
       "      <td>0</td>\n",
       "      <td>0.000000</td>\n",
       "    </tr>\n",
       "    <tr>\n",
       "      <th>Medical_Keyword_8</th>\n",
       "      <td>0</td>\n",
       "      <td>0.000000</td>\n",
       "    </tr>\n",
       "    <tr>\n",
       "      <th>Medical_Keyword_9</th>\n",
       "      <td>0</td>\n",
       "      <td>0.000000</td>\n",
       "    </tr>\n",
       "    <tr>\n",
       "      <th>Medical_Keyword_10</th>\n",
       "      <td>0</td>\n",
       "      <td>0.000000</td>\n",
       "    </tr>\n",
       "    <tr>\n",
       "      <th>Medical_Keyword_11</th>\n",
       "      <td>0</td>\n",
       "      <td>0.000000</td>\n",
       "    </tr>\n",
       "    <tr>\n",
       "      <th>Medical_Keyword_12</th>\n",
       "      <td>0</td>\n",
       "      <td>0.000000</td>\n",
       "    </tr>\n",
       "    <tr>\n",
       "      <th>Medical_Keyword_13</th>\n",
       "      <td>0</td>\n",
       "      <td>0.000000</td>\n",
       "    </tr>\n",
       "    <tr>\n",
       "      <th>Medical_Keyword_14</th>\n",
       "      <td>0</td>\n",
       "      <td>0.000000</td>\n",
       "    </tr>\n",
       "    <tr>\n",
       "      <th>Medical_Keyword_15</th>\n",
       "      <td>0</td>\n",
       "      <td>0.000000</td>\n",
       "    </tr>\n",
       "    <tr>\n",
       "      <th>Id</th>\n",
       "      <td>0</td>\n",
       "      <td>0.000000</td>\n",
       "    </tr>\n",
       "  </tbody>\n",
       "</table>\n",
       "<p>128 rows × 2 columns</p>\n",
       "</div>"
      ],
      "text/plain": [
       "                     Total   Percent\n",
       "Medical_History_10   58824  0.990620\n",
       "Medical_History_32   58274  0.981358\n",
       "Medical_History_24   55580  0.935990\n",
       "Medical_History_15   44596  0.751015\n",
       "Family_Hist_5        41811  0.704114\n",
       "Family_Hist_3        34241  0.576632\n",
       "Family_Hist_2        28656  0.482579\n",
       "Insurance_History_5  25396  0.427679\n",
       "Family_Hist_4        19184  0.323066\n",
       "Employment_Info_6    10854  0.182786\n",
       "Medical_History_1     8889  0.149694\n",
       "Employment_Info_4     6779  0.114161\n",
       "Employment_Info_1       19  0.000320\n",
       "Medical_History_19       0  0.000000\n",
       "Medical_History_7        0  0.000000\n",
       "Medical_History_23       0  0.000000\n",
       "Medical_History_22       0  0.000000\n",
       "Medical_History_2        0  0.000000\n",
       "Medical_History_3        0  0.000000\n",
       "Medical_History_4        0  0.000000\n",
       "Medical_History_5        0  0.000000\n",
       "Medical_History_6        0  0.000000\n",
       "Medical_History_9        0  0.000000\n",
       "Medical_History_8        0  0.000000\n",
       "Medical_History_18       0  0.000000\n",
       "Medical_History_21       0  0.000000\n",
       "Family_Hist_1            0  0.000000\n",
       "Medical_History_12       0  0.000000\n",
       "Medical_History_13       0  0.000000\n",
       "Medical_History_14       0  0.000000\n",
       "...                    ...       ...\n",
       "Medical_Keyword_1        0  0.000000\n",
       "Medical_History_28       0  0.000000\n",
       "Medical_History_29       0  0.000000\n",
       "Medical_History_30       0  0.000000\n",
       "Medical_History_31       0  0.000000\n",
       "Medical_History_33       0  0.000000\n",
       "Medical_History_34       0  0.000000\n",
       "Medical_History_35       0  0.000000\n",
       "Medical_History_36       0  0.000000\n",
       "Medical_History_37       0  0.000000\n",
       "Medical_History_38       0  0.000000\n",
       "Medical_History_39       0  0.000000\n",
       "Medical_History_40       0  0.000000\n",
       "Medical_History_41       0  0.000000\n",
       "Medical_Keyword_2        0  0.000000\n",
       "Medical_Keyword_16       0  0.000000\n",
       "Medical_Keyword_3        0  0.000000\n",
       "Medical_Keyword_4        0  0.000000\n",
       "Medical_Keyword_5        0  0.000000\n",
       "Medical_Keyword_6        0  0.000000\n",
       "Medical_Keyword_7        0  0.000000\n",
       "Medical_Keyword_8        0  0.000000\n",
       "Medical_Keyword_9        0  0.000000\n",
       "Medical_Keyword_10       0  0.000000\n",
       "Medical_Keyword_11       0  0.000000\n",
       "Medical_Keyword_12       0  0.000000\n",
       "Medical_Keyword_13       0  0.000000\n",
       "Medical_Keyword_14       0  0.000000\n",
       "Medical_Keyword_15       0  0.000000\n",
       "Id                       0  0.000000\n",
       "\n",
       "[128 rows x 2 columns]"
      ]
     },
     "execution_count": 5,
     "metadata": {},
     "output_type": "execute_result"
    }
   ],
   "source": [
    "total = train.isnull().sum().sort_values(ascending=False)\n",
    "percent = (train.isnull().sum()/train.isnull().count()).sort_values(ascending=False)\n",
    "missing_data = pd.concat([total, percent], axis=1, keys=['Total', 'Percent'])\n",
    "missing_data"
   ]
  },
  {
   "cell_type": "code",
   "execution_count": 6,
   "metadata": {},
   "outputs": [
    {
     "name": "stdout",
     "output_type": "stream",
     "text": [
      "<class 'pandas.core.frame.DataFrame'>\n",
      "RangeIndex: 59381 entries, 0 to 59380\n",
      "Columns: 128 entries, Id to Response\n",
      "dtypes: float64(18), int64(109), object(1)\n",
      "memory usage: 58.0+ MB\n"
     ]
    }
   ],
   "source": [
    "train.info()"
   ]
  },
  {
   "cell_type": "code",
   "execution_count": 7,
   "metadata": {},
   "outputs": [],
   "source": [
    "train = pd.get_dummies(train, prefix='Product_Info_2', columns=['Product_Info_2'])"
   ]
  },
  {
   "cell_type": "code",
   "execution_count": 8,
   "metadata": {},
   "outputs": [],
   "source": [
    "train['Medical_Keywords'] = train.loc[:, 'Medical_Keyword_1':'Medical_Keyword_48'].sum(axis = 1)"
   ]
  },
  {
   "cell_type": "code",
   "execution_count": 9,
   "metadata": {},
   "outputs": [
    {
     "data": {
      "text/plain": [
       "(59381, 147)"
      ]
     },
     "execution_count": 9,
     "metadata": {},
     "output_type": "execute_result"
    }
   ],
   "source": [
    "train.shape"
   ]
  },
  {
   "cell_type": "code",
   "execution_count": 10,
   "metadata": {},
   "outputs": [],
   "source": [
    "# train.drop(train.loc[:, 'Medical_Keyword_1':'Medical_Keyword_48'], inplace=True, axis=1)"
   ]
  },
  {
   "cell_type": "code",
   "execution_count": 11,
   "metadata": {},
   "outputs": [
    {
     "data": {
      "text/plain": [
       "(59381, 147)"
      ]
     },
     "execution_count": 11,
     "metadata": {},
     "output_type": "execute_result"
    }
   ],
   "source": [
    "train.shape"
   ]
  },
  {
   "cell_type": "code",
   "execution_count": 12,
   "metadata": {},
   "outputs": [],
   "source": [
    "# train.drop(train.loc[:, 'Medical_History_1':'Medical_History_41'], inplace=True, axis=1)"
   ]
  },
  {
   "cell_type": "code",
   "execution_count": 13,
   "metadata": {},
   "outputs": [],
   "source": [
    "train['BMI_Age'] = train['BMI'] * train['Ins_Age']\n",
    "train['Ins_Age_sq'] = train['Ins_Age'] * train['Ins_Age']\n",
    "train['Ht_sq'] = train['Ht'] * train['Ht']\n",
    "train['Wt_sq'] = train['Wt'] * train['Wt']\n",
    "train['Ins_Age_cu'] = train['Ins_Age'] * train['Ins_Age'] * train['Ins_Age']\n",
    "train['Ht_cu'] = train['Ht'] * train['Ht'] * train['Ht']\n",
    "train['Wt_cu'] = train['Wt'] * train['Wt'] * train['Wt']"
   ]
  },
  {
   "cell_type": "code",
   "execution_count": 14,
   "metadata": {},
   "outputs": [
    {
     "data": {
      "text/plain": [
       "(59381, 154)"
      ]
     },
     "execution_count": 14,
     "metadata": {},
     "output_type": "execute_result"
    }
   ],
   "source": [
    "train.shape"
   ]
  },
  {
   "cell_type": "code",
   "execution_count": 15,
   "metadata": {},
   "outputs": [
    {
     "name": "stdout",
     "output_type": "stream",
     "text": [
      "<class 'pandas.core.frame.DataFrame'>\n",
      "RangeIndex: 59381 entries, 0 to 59380\n",
      "Columns: 154 entries, Id to Wt_cu\n",
      "dtypes: float64(25), int64(110), uint8(19)\n",
      "memory usage: 62.2 MB\n"
     ]
    }
   ],
   "source": [
    "train.info()"
   ]
  },
  {
   "cell_type": "code",
   "execution_count": 16,
   "metadata": {},
   "outputs": [],
   "source": [
    "for c in train.columns:\n",
    "  if train[c].dtype == 'uint8':\n",
    "    try:\n",
    "        train[c] = train[c].astype('int64')\n",
    "    except:\n",
    "        print('Column',' ',c,' cannot be converted to int.')"
   ]
  },
  {
   "cell_type": "code",
   "execution_count": 17,
   "metadata": {},
   "outputs": [
    {
     "name": "stdout",
     "output_type": "stream",
     "text": [
      "<class 'pandas.core.frame.DataFrame'>\n",
      "RangeIndex: 59381 entries, 0 to 59380\n",
      "Columns: 154 entries, Id to Wt_cu\n",
      "dtypes: float64(25), int64(129)\n",
      "memory usage: 69.8 MB\n"
     ]
    }
   ],
   "source": [
    "train.info()"
   ]
  },
  {
   "cell_type": "code",
   "execution_count": 18,
   "metadata": {},
   "outputs": [],
   "source": [
    "train.fillna(-1, inplace=True)"
   ]
  },
  {
   "cell_type": "code",
   "execution_count": 19,
   "metadata": {},
   "outputs": [
    {
     "data": {
      "text/plain": [
       "0.0"
      ]
     },
     "execution_count": 19,
     "metadata": {},
     "output_type": "execute_result"
    }
   ],
   "source": [
    "total = train.isnull().sum().sort_values(ascending=False)\n",
    "percent = (train.isnull().sum()/train.isnull().count()).sort_values(ascending=False)\n",
    "missing_data = pd.concat([total, percent], axis=1, keys=['Total', 'Percent'])\n",
    "missing_data.sum().max()"
   ]
  },
  {
   "cell_type": "code",
   "execution_count": 20,
   "metadata": {},
   "outputs": [
    {
     "data": {
      "text/plain": [
       "(59381, 153)"
      ]
     },
     "execution_count": 20,
     "metadata": {},
     "output_type": "execute_result"
    }
   ],
   "source": [
    "x_train = train.loc[:, train.columns != 'Response']\n",
    "x_train = x_train.values\n",
    "x_train.shape"
   ]
  },
  {
   "cell_type": "code",
   "execution_count": 21,
   "metadata": {},
   "outputs": [],
   "source": [
    "y_train = train['Response'].values"
   ]
  },
  {
   "cell_type": "code",
   "execution_count": 22,
   "metadata": {},
   "outputs": [
    {
     "data": {
      "text/html": [
       "<div>\n",
       "<style scoped>\n",
       "    .dataframe tbody tr th:only-of-type {\n",
       "        vertical-align: middle;\n",
       "    }\n",
       "\n",
       "    .dataframe tbody tr th {\n",
       "        vertical-align: top;\n",
       "    }\n",
       "\n",
       "    .dataframe thead th {\n",
       "        text-align: right;\n",
       "    }\n",
       "</style>\n",
       "<table border=\"1\" class=\"dataframe\">\n",
       "  <thead>\n",
       "    <tr style=\"text-align: right;\">\n",
       "      <th></th>\n",
       "      <th>Total</th>\n",
       "      <th>Percent</th>\n",
       "    </tr>\n",
       "  </thead>\n",
       "  <tbody>\n",
       "    <tr>\n",
       "      <th>Medical_History_10</th>\n",
       "      <td>19564</td>\n",
       "      <td>0.989831</td>\n",
       "    </tr>\n",
       "    <tr>\n",
       "      <th>Medical_History_32</th>\n",
       "      <td>19414</td>\n",
       "      <td>0.982241</td>\n",
       "    </tr>\n",
       "    <tr>\n",
       "      <th>Medical_History_24</th>\n",
       "      <td>18585</td>\n",
       "      <td>0.940299</td>\n",
       "    </tr>\n",
       "    <tr>\n",
       "      <th>Medical_History_15</th>\n",
       "      <td>14864</td>\n",
       "      <td>0.752036</td>\n",
       "    </tr>\n",
       "    <tr>\n",
       "      <th>Family_Hist_5</th>\n",
       "      <td>13624</td>\n",
       "      <td>0.689299</td>\n",
       "    </tr>\n",
       "    <tr>\n",
       "      <th>Family_Hist_3</th>\n",
       "      <td>11064</td>\n",
       "      <td>0.559777</td>\n",
       "    </tr>\n",
       "    <tr>\n",
       "      <th>Family_Hist_2</th>\n",
       "      <td>9880</td>\n",
       "      <td>0.499874</td>\n",
       "    </tr>\n",
       "    <tr>\n",
       "      <th>Insurance_History_5</th>\n",
       "      <td>8105</td>\n",
       "      <td>0.410068</td>\n",
       "    </tr>\n",
       "    <tr>\n",
       "      <th>Family_Hist_4</th>\n",
       "      <td>6677</td>\n",
       "      <td>0.337819</td>\n",
       "    </tr>\n",
       "    <tr>\n",
       "      <th>Employment_Info_6</th>\n",
       "      <td>3787</td>\n",
       "      <td>0.191601</td>\n",
       "    </tr>\n",
       "    <tr>\n",
       "      <th>Medical_History_1</th>\n",
       "      <td>2972</td>\n",
       "      <td>0.150367</td>\n",
       "    </tr>\n",
       "    <tr>\n",
       "      <th>Employment_Info_4</th>\n",
       "      <td>2137</td>\n",
       "      <td>0.108120</td>\n",
       "    </tr>\n",
       "    <tr>\n",
       "      <th>Employment_Info_1</th>\n",
       "      <td>3</td>\n",
       "      <td>0.000152</td>\n",
       "    </tr>\n",
       "    <tr>\n",
       "      <th>Medical_History_19</th>\n",
       "      <td>0</td>\n",
       "      <td>0.000000</td>\n",
       "    </tr>\n",
       "    <tr>\n",
       "      <th>Medical_History_7</th>\n",
       "      <td>0</td>\n",
       "      <td>0.000000</td>\n",
       "    </tr>\n",
       "    <tr>\n",
       "      <th>Medical_History_23</th>\n",
       "      <td>0</td>\n",
       "      <td>0.000000</td>\n",
       "    </tr>\n",
       "    <tr>\n",
       "      <th>Medical_History_22</th>\n",
       "      <td>0</td>\n",
       "      <td>0.000000</td>\n",
       "    </tr>\n",
       "    <tr>\n",
       "      <th>Medical_History_2</th>\n",
       "      <td>0</td>\n",
       "      <td>0.000000</td>\n",
       "    </tr>\n",
       "    <tr>\n",
       "      <th>Medical_History_3</th>\n",
       "      <td>0</td>\n",
       "      <td>0.000000</td>\n",
       "    </tr>\n",
       "    <tr>\n",
       "      <th>Medical_History_4</th>\n",
       "      <td>0</td>\n",
       "      <td>0.000000</td>\n",
       "    </tr>\n",
       "    <tr>\n",
       "      <th>Medical_History_5</th>\n",
       "      <td>0</td>\n",
       "      <td>0.000000</td>\n",
       "    </tr>\n",
       "    <tr>\n",
       "      <th>Medical_History_6</th>\n",
       "      <td>0</td>\n",
       "      <td>0.000000</td>\n",
       "    </tr>\n",
       "    <tr>\n",
       "      <th>Medical_History_9</th>\n",
       "      <td>0</td>\n",
       "      <td>0.000000</td>\n",
       "    </tr>\n",
       "    <tr>\n",
       "      <th>Medical_History_8</th>\n",
       "      <td>0</td>\n",
       "      <td>0.000000</td>\n",
       "    </tr>\n",
       "    <tr>\n",
       "      <th>Medical_History_18</th>\n",
       "      <td>0</td>\n",
       "      <td>0.000000</td>\n",
       "    </tr>\n",
       "    <tr>\n",
       "      <th>Medical_History_21</th>\n",
       "      <td>0</td>\n",
       "      <td>0.000000</td>\n",
       "    </tr>\n",
       "    <tr>\n",
       "      <th>Family_Hist_1</th>\n",
       "      <td>0</td>\n",
       "      <td>0.000000</td>\n",
       "    </tr>\n",
       "    <tr>\n",
       "      <th>Medical_History_12</th>\n",
       "      <td>0</td>\n",
       "      <td>0.000000</td>\n",
       "    </tr>\n",
       "    <tr>\n",
       "      <th>Medical_History_13</th>\n",
       "      <td>0</td>\n",
       "      <td>0.000000</td>\n",
       "    </tr>\n",
       "    <tr>\n",
       "      <th>Medical_History_14</th>\n",
       "      <td>0</td>\n",
       "      <td>0.000000</td>\n",
       "    </tr>\n",
       "    <tr>\n",
       "      <th>...</th>\n",
       "      <td>...</td>\n",
       "      <td>...</td>\n",
       "    </tr>\n",
       "    <tr>\n",
       "      <th>Medical_Keyword_16</th>\n",
       "      <td>0</td>\n",
       "      <td>0.000000</td>\n",
       "    </tr>\n",
       "    <tr>\n",
       "      <th>Medical_Keyword_15</th>\n",
       "      <td>0</td>\n",
       "      <td>0.000000</td>\n",
       "    </tr>\n",
       "    <tr>\n",
       "      <th>Medical_History_28</th>\n",
       "      <td>0</td>\n",
       "      <td>0.000000</td>\n",
       "    </tr>\n",
       "    <tr>\n",
       "      <th>Medical_History_29</th>\n",
       "      <td>0</td>\n",
       "      <td>0.000000</td>\n",
       "    </tr>\n",
       "    <tr>\n",
       "      <th>Medical_History_30</th>\n",
       "      <td>0</td>\n",
       "      <td>0.000000</td>\n",
       "    </tr>\n",
       "    <tr>\n",
       "      <th>Medical_History_31</th>\n",
       "      <td>0</td>\n",
       "      <td>0.000000</td>\n",
       "    </tr>\n",
       "    <tr>\n",
       "      <th>Medical_History_33</th>\n",
       "      <td>0</td>\n",
       "      <td>0.000000</td>\n",
       "    </tr>\n",
       "    <tr>\n",
       "      <th>Medical_History_34</th>\n",
       "      <td>0</td>\n",
       "      <td>0.000000</td>\n",
       "    </tr>\n",
       "    <tr>\n",
       "      <th>Medical_History_35</th>\n",
       "      <td>0</td>\n",
       "      <td>0.000000</td>\n",
       "    </tr>\n",
       "    <tr>\n",
       "      <th>Medical_History_36</th>\n",
       "      <td>0</td>\n",
       "      <td>0.000000</td>\n",
       "    </tr>\n",
       "    <tr>\n",
       "      <th>Medical_History_37</th>\n",
       "      <td>0</td>\n",
       "      <td>0.000000</td>\n",
       "    </tr>\n",
       "    <tr>\n",
       "      <th>Medical_History_38</th>\n",
       "      <td>0</td>\n",
       "      <td>0.000000</td>\n",
       "    </tr>\n",
       "    <tr>\n",
       "      <th>Medical_History_39</th>\n",
       "      <td>0</td>\n",
       "      <td>0.000000</td>\n",
       "    </tr>\n",
       "    <tr>\n",
       "      <th>Medical_History_40</th>\n",
       "      <td>0</td>\n",
       "      <td>0.000000</td>\n",
       "    </tr>\n",
       "    <tr>\n",
       "      <th>Medical_History_41</th>\n",
       "      <td>0</td>\n",
       "      <td>0.000000</td>\n",
       "    </tr>\n",
       "    <tr>\n",
       "      <th>Medical_Keyword_1</th>\n",
       "      <td>0</td>\n",
       "      <td>0.000000</td>\n",
       "    </tr>\n",
       "    <tr>\n",
       "      <th>Medical_Keyword_2</th>\n",
       "      <td>0</td>\n",
       "      <td>0.000000</td>\n",
       "    </tr>\n",
       "    <tr>\n",
       "      <th>Medical_Keyword_3</th>\n",
       "      <td>0</td>\n",
       "      <td>0.000000</td>\n",
       "    </tr>\n",
       "    <tr>\n",
       "      <th>Medical_Keyword_4</th>\n",
       "      <td>0</td>\n",
       "      <td>0.000000</td>\n",
       "    </tr>\n",
       "    <tr>\n",
       "      <th>Medical_Keyword_5</th>\n",
       "      <td>0</td>\n",
       "      <td>0.000000</td>\n",
       "    </tr>\n",
       "    <tr>\n",
       "      <th>Medical_Keyword_6</th>\n",
       "      <td>0</td>\n",
       "      <td>0.000000</td>\n",
       "    </tr>\n",
       "    <tr>\n",
       "      <th>Medical_Keyword_7</th>\n",
       "      <td>0</td>\n",
       "      <td>0.000000</td>\n",
       "    </tr>\n",
       "    <tr>\n",
       "      <th>Medical_Keyword_8</th>\n",
       "      <td>0</td>\n",
       "      <td>0.000000</td>\n",
       "    </tr>\n",
       "    <tr>\n",
       "      <th>Medical_Keyword_9</th>\n",
       "      <td>0</td>\n",
       "      <td>0.000000</td>\n",
       "    </tr>\n",
       "    <tr>\n",
       "      <th>Medical_Keyword_10</th>\n",
       "      <td>0</td>\n",
       "      <td>0.000000</td>\n",
       "    </tr>\n",
       "    <tr>\n",
       "      <th>Medical_Keyword_11</th>\n",
       "      <td>0</td>\n",
       "      <td>0.000000</td>\n",
       "    </tr>\n",
       "    <tr>\n",
       "      <th>Medical_Keyword_12</th>\n",
       "      <td>0</td>\n",
       "      <td>0.000000</td>\n",
       "    </tr>\n",
       "    <tr>\n",
       "      <th>Medical_Keyword_13</th>\n",
       "      <td>0</td>\n",
       "      <td>0.000000</td>\n",
       "    </tr>\n",
       "    <tr>\n",
       "      <th>Medical_Keyword_14</th>\n",
       "      <td>0</td>\n",
       "      <td>0.000000</td>\n",
       "    </tr>\n",
       "    <tr>\n",
       "      <th>Id</th>\n",
       "      <td>0</td>\n",
       "      <td>0.000000</td>\n",
       "    </tr>\n",
       "  </tbody>\n",
       "</table>\n",
       "<p>127 rows × 2 columns</p>\n",
       "</div>"
      ],
      "text/plain": [
       "                     Total   Percent\n",
       "Medical_History_10   19564  0.989831\n",
       "Medical_History_32   19414  0.982241\n",
       "Medical_History_24   18585  0.940299\n",
       "Medical_History_15   14864  0.752036\n",
       "Family_Hist_5        13624  0.689299\n",
       "Family_Hist_3        11064  0.559777\n",
       "Family_Hist_2         9880  0.499874\n",
       "Insurance_History_5   8105  0.410068\n",
       "Family_Hist_4         6677  0.337819\n",
       "Employment_Info_6     3787  0.191601\n",
       "Medical_History_1     2972  0.150367\n",
       "Employment_Info_4     2137  0.108120\n",
       "Employment_Info_1        3  0.000152\n",
       "Medical_History_19       0  0.000000\n",
       "Medical_History_7        0  0.000000\n",
       "Medical_History_23       0  0.000000\n",
       "Medical_History_22       0  0.000000\n",
       "Medical_History_2        0  0.000000\n",
       "Medical_History_3        0  0.000000\n",
       "Medical_History_4        0  0.000000\n",
       "Medical_History_5        0  0.000000\n",
       "Medical_History_6        0  0.000000\n",
       "Medical_History_9        0  0.000000\n",
       "Medical_History_8        0  0.000000\n",
       "Medical_History_18       0  0.000000\n",
       "Medical_History_21       0  0.000000\n",
       "Family_Hist_1            0  0.000000\n",
       "Medical_History_12       0  0.000000\n",
       "Medical_History_13       0  0.000000\n",
       "Medical_History_14       0  0.000000\n",
       "...                    ...       ...\n",
       "Medical_Keyword_16       0  0.000000\n",
       "Medical_Keyword_15       0  0.000000\n",
       "Medical_History_28       0  0.000000\n",
       "Medical_History_29       0  0.000000\n",
       "Medical_History_30       0  0.000000\n",
       "Medical_History_31       0  0.000000\n",
       "Medical_History_33       0  0.000000\n",
       "Medical_History_34       0  0.000000\n",
       "Medical_History_35       0  0.000000\n",
       "Medical_History_36       0  0.000000\n",
       "Medical_History_37       0  0.000000\n",
       "Medical_History_38       0  0.000000\n",
       "Medical_History_39       0  0.000000\n",
       "Medical_History_40       0  0.000000\n",
       "Medical_History_41       0  0.000000\n",
       "Medical_Keyword_1        0  0.000000\n",
       "Medical_Keyword_2        0  0.000000\n",
       "Medical_Keyword_3        0  0.000000\n",
       "Medical_Keyword_4        0  0.000000\n",
       "Medical_Keyword_5        0  0.000000\n",
       "Medical_Keyword_6        0  0.000000\n",
       "Medical_Keyword_7        0  0.000000\n",
       "Medical_Keyword_8        0  0.000000\n",
       "Medical_Keyword_9        0  0.000000\n",
       "Medical_Keyword_10       0  0.000000\n",
       "Medical_Keyword_11       0  0.000000\n",
       "Medical_Keyword_12       0  0.000000\n",
       "Medical_Keyword_13       0  0.000000\n",
       "Medical_Keyword_14       0  0.000000\n",
       "Id                       0  0.000000\n",
       "\n",
       "[127 rows x 2 columns]"
      ]
     },
     "execution_count": 22,
     "metadata": {},
     "output_type": "execute_result"
    }
   ],
   "source": [
    "total = test.isnull().sum().sort_values(ascending=False)\n",
    "percent = (test.isnull().sum()/test.isnull().count()).sort_values(ascending=False)\n",
    "missing_data_1 = pd.concat([total, percent], axis=1, keys=['Total', 'Percent'])\n",
    "missing_data_1"
   ]
  },
  {
   "cell_type": "code",
   "execution_count": 23,
   "metadata": {},
   "outputs": [
    {
     "name": "stdout",
     "output_type": "stream",
     "text": [
      "<class 'pandas.core.frame.DataFrame'>\n",
      "RangeIndex: 19765 entries, 0 to 19764\n",
      "Columns: 127 entries, Id to Medical_Keyword_48\n",
      "dtypes: float64(18), int64(108), object(1)\n",
      "memory usage: 19.2+ MB\n"
     ]
    }
   ],
   "source": [
    "test.info()"
   ]
  },
  {
   "cell_type": "code",
   "execution_count": 24,
   "metadata": {},
   "outputs": [],
   "source": [
    "test = pd.get_dummies(test, prefix='Product_Info_2', columns=['Product_Info_2'])"
   ]
  },
  {
   "cell_type": "code",
   "execution_count": 25,
   "metadata": {},
   "outputs": [],
   "source": [
    "test['Medical_Keywords'] = test.loc[:, 'Medical_Keyword_1':'Medical_Keyword_48'].sum(axis = 1)"
   ]
  },
  {
   "cell_type": "code",
   "execution_count": 26,
   "metadata": {},
   "outputs": [
    {
     "data": {
      "text/plain": [
       "(19765, 146)"
      ]
     },
     "execution_count": 26,
     "metadata": {},
     "output_type": "execute_result"
    }
   ],
   "source": [
    "test.shape"
   ]
  },
  {
   "cell_type": "code",
   "execution_count": 27,
   "metadata": {},
   "outputs": [],
   "source": [
    "# test.drop(test.loc[:, 'Medical_Keyword_1':'Medical_Keyword_48'], inplace=True, axis=1)"
   ]
  },
  {
   "cell_type": "code",
   "execution_count": 28,
   "metadata": {},
   "outputs": [
    {
     "data": {
      "text/plain": [
       "(19765, 146)"
      ]
     },
     "execution_count": 28,
     "metadata": {},
     "output_type": "execute_result"
    }
   ],
   "source": [
    "test.shape"
   ]
  },
  {
   "cell_type": "code",
   "execution_count": 29,
   "metadata": {},
   "outputs": [],
   "source": [
    "# test.drop(test.loc[:, 'Medical_History_1':'Medical_History_41'], inplace=True, axis=1)"
   ]
  },
  {
   "cell_type": "code",
   "execution_count": 30,
   "metadata": {},
   "outputs": [],
   "source": [
    "test['BMI_Age'] = test['BMI'] * test['Ins_Age']\n",
    "test['Ins_Age_sq'] = test['Ins_Age'] * test['Ins_Age']\n",
    "test['Ht_sq'] = test['Ht'] * test['Ht']\n",
    "test['Wt_sq'] = test['Wt'] * test['Wt']\n",
    "test['Ins_Age_cu'] = test['Ins_Age'] * test['Ins_Age'] * test['Ins_Age']\n",
    "test['Ht_cu'] = test['Ht'] * test['Ht'] * test['Ht']\n",
    "test['Wt_cu'] = test['Wt'] * test['Wt'] * test['Wt']"
   ]
  },
  {
   "cell_type": "code",
   "execution_count": 31,
   "metadata": {},
   "outputs": [
    {
     "data": {
      "text/plain": [
       "(19765, 153)"
      ]
     },
     "execution_count": 31,
     "metadata": {},
     "output_type": "execute_result"
    }
   ],
   "source": [
    "test.shape"
   ]
  },
  {
   "cell_type": "code",
   "execution_count": 32,
   "metadata": {},
   "outputs": [
    {
     "name": "stdout",
     "output_type": "stream",
     "text": [
      "<class 'pandas.core.frame.DataFrame'>\n",
      "RangeIndex: 19765 entries, 0 to 19764\n",
      "Columns: 153 entries, Id to Wt_cu\n",
      "dtypes: float64(25), int64(109), uint8(19)\n",
      "memory usage: 20.6 MB\n"
     ]
    }
   ],
   "source": [
    "test.info()"
   ]
  },
  {
   "cell_type": "code",
   "execution_count": 33,
   "metadata": {},
   "outputs": [],
   "source": [
    "for c in test.columns:\n",
    "  if test[c].dtype == 'uint8':\n",
    "    try:\n",
    "        test[c] = test[c].astype('int64')\n",
    "    except:\n",
    "        print('Column',' ',c,' cannot be converted to int.')"
   ]
  },
  {
   "cell_type": "code",
   "execution_count": 34,
   "metadata": {},
   "outputs": [
    {
     "name": "stdout",
     "output_type": "stream",
     "text": [
      "<class 'pandas.core.frame.DataFrame'>\n",
      "RangeIndex: 19765 entries, 0 to 19764\n",
      "Columns: 153 entries, Id to Wt_cu\n",
      "dtypes: float64(25), int64(128)\n",
      "memory usage: 23.1 MB\n"
     ]
    }
   ],
   "source": [
    "test.info()"
   ]
  },
  {
   "cell_type": "code",
   "execution_count": 35,
   "metadata": {},
   "outputs": [],
   "source": [
    "test.fillna(-1, inplace=True)"
   ]
  },
  {
   "cell_type": "code",
   "execution_count": 36,
   "metadata": {},
   "outputs": [
    {
     "data": {
      "text/plain": [
       "0.0"
      ]
     },
     "execution_count": 36,
     "metadata": {},
     "output_type": "execute_result"
    }
   ],
   "source": [
    "total = test.isnull().sum().sort_values(ascending=False)\n",
    "percent = (test.isnull().sum()/test.isnull().count()).sort_values(ascending=False)\n",
    "missing_data_1 = pd.concat([total, percent], axis=1, keys=['Total', 'Percent'])\n",
    "missing_data_1.sum().max()"
   ]
  },
  {
   "cell_type": "code",
   "execution_count": 37,
   "metadata": {},
   "outputs": [],
   "source": [
    "x_test = test.values"
   ]
  },
  {
   "cell_type": "code",
   "execution_count": 38,
   "metadata": {},
   "outputs": [
    {
     "data": {
      "text/plain": [
       "(19765, 153)"
      ]
     },
     "execution_count": 38,
     "metadata": {},
     "output_type": "execute_result"
    }
   ],
   "source": [
    "x_test.shape"
   ]
  },
  {
   "cell_type": "code",
   "execution_count": null,
   "metadata": {},
   "outputs": [],
   "source": [
    "import xgboost \n",
    "\n",
    "xgb = xgboost.XGBClassifier(n_estimators=400, learning_rate=0.06, gamma=0, subsample=1,\n",
    "                           colsample_bytree=1, max_depth=7, booster = 'gbtree', random_state = 0, objective = 'reg:linear', gpu_id = 0)\n",
    "xgb.fit(x_train,y_train)\n",
    "predictions = xgb.predict(x_test)"
   ]
  },
  {
   "cell_type": "code",
   "execution_count": null,
   "metadata": {},
   "outputs": [],
   "source": [
    "output = pd.DataFrame({ 'Id' : test['Id'], 'Response': predictions })\n",
    "output.to_csv('xgboost-prudential-kaggle.csv', index = False)"
   ]
  },
  {
   "cell_type": "code",
   "execution_count": null,
   "metadata": {},
   "outputs": [],
   "source": []
  },
  {
   "cell_type": "code",
   "execution_count": null,
   "metadata": {},
   "outputs": [],
   "source": []
  },
  {
   "cell_type": "code",
   "execution_count": null,
   "metadata": {},
   "outputs": [],
   "source": []
  }
 ],
 "metadata": {
  "kernelspec": {
   "display_name": "Python 3",
   "language": "python",
   "name": "python3"
  },
  "language_info": {
   "codemirror_mode": {
    "name": "ipython",
    "version": 3
   },
   "file_extension": ".py",
   "mimetype": "text/x-python",
   "name": "python",
   "nbconvert_exporter": "python",
   "pygments_lexer": "ipython3",
   "version": "3.7.1"
  }
 },
 "nbformat": 4,
 "nbformat_minor": 2
}
